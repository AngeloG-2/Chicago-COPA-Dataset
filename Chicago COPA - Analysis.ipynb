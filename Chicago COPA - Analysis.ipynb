{
 "cells": [
  {
   "cell_type": "code",
   "execution_count": 1,
   "id": "907d65d8-da9a-45de-aa4c-509fbf01ac4a",
   "metadata": {},
   "outputs": [],
   "source": [
    "import pandas as pd\n",
    "import matplotlib.pyplot as plt\n",
    "import seaborn as sns\n",
    "import numpy as np\n",
    "import plotly.express as px"
   ]
  },
  {
   "cell_type": "code",
   "execution_count": 2,
   "id": "b5df9de1-d438-449c-8430-4fbb0cf13b4b",
   "metadata": {},
   "outputs": [],
   "source": [
    "complaints = pd.read_csv(\"no_bia_with_officer_information.csv\")"
   ]
  },
  {
   "cell_type": "code",
   "execution_count": 3,
   "id": "5fe99dde-09a1-4a3a-b259-78643c26b201",
   "metadata": {},
   "outputs": [
    {
     "data": {
      "text/html": [
       "<div>\n",
       "<style scoped>\n",
       "    .dataframe tbody tr th:only-of-type {\n",
       "        vertical-align: middle;\n",
       "    }\n",
       "\n",
       "    .dataframe tbody tr th {\n",
       "        vertical-align: top;\n",
       "    }\n",
       "\n",
       "    .dataframe thead th {\n",
       "        text-align: right;\n",
       "    }\n",
       "</style>\n",
       "<table border=\"1\" class=\"dataframe\">\n",
       "  <thead>\n",
       "    <tr style=\"text-align: right;\">\n",
       "      <th></th>\n",
       "      <th>Unnamed: 0</th>\n",
       "      <th>LOG_NO</th>\n",
       "      <th>COMPLAINT_DATE</th>\n",
       "      <th>ASSIGNMENT</th>\n",
       "      <th>CASE_TYPE</th>\n",
       "      <th>CURRENT_STATUS</th>\n",
       "      <th>CURRENT_CATEGORY</th>\n",
       "      <th>FINDING_CODE</th>\n",
       "      <th>POLICE_SHOOTING</th>\n",
       "      <th>BEAT</th>\n",
       "      <th>...</th>\n",
       "      <th>num_unknown_officers</th>\n",
       "      <th>num_white_officers</th>\n",
       "      <th>num_police_officers</th>\n",
       "      <th>num_black_complainants</th>\n",
       "      <th>num_native_complainants</th>\n",
       "      <th>num_asian_complainants</th>\n",
       "      <th>num_hispanic_complainants</th>\n",
       "      <th>num_unknown_complainants</th>\n",
       "      <th>num_white_complainants</th>\n",
       "      <th>num_complainants</th>\n",
       "    </tr>\n",
       "  </thead>\n",
       "  <tbody>\n",
       "    <tr>\n",
       "      <th>0</th>\n",
       "      <td>4</td>\n",
       "      <td>1092325</td>\n",
       "      <td>2019-01-11T15:18:16.000</td>\n",
       "      <td>COPA</td>\n",
       "      <td>Complaint</td>\n",
       "      <td>Pending Investigation</td>\n",
       "      <td>Excessive Force</td>\n",
       "      <td>NaN</td>\n",
       "      <td>No</td>\n",
       "      <td>1132</td>\n",
       "      <td>...</td>\n",
       "      <td>NaN</td>\n",
       "      <td>NaN</td>\n",
       "      <td>NaN</td>\n",
       "      <td>2.0</td>\n",
       "      <td>0.0</td>\n",
       "      <td>0.0</td>\n",
       "      <td>0.0</td>\n",
       "      <td>0.0</td>\n",
       "      <td>0.0</td>\n",
       "      <td>2.0</td>\n",
       "    </tr>\n",
       "    <tr>\n",
       "      <th>1</th>\n",
       "      <td>16</td>\n",
       "      <td>1092312</td>\n",
       "      <td>2019-01-11T00:50:55.000</td>\n",
       "      <td>COPA</td>\n",
       "      <td>Complaint</td>\n",
       "      <td>Pending Investigation</td>\n",
       "      <td>Excessive Force</td>\n",
       "      <td>NaN</td>\n",
       "      <td>No</td>\n",
       "      <td>1114</td>\n",
       "      <td>...</td>\n",
       "      <td>NaN</td>\n",
       "      <td>NaN</td>\n",
       "      <td>NaN</td>\n",
       "      <td>1.0</td>\n",
       "      <td>0.0</td>\n",
       "      <td>0.0</td>\n",
       "      <td>0.0</td>\n",
       "      <td>0.0</td>\n",
       "      <td>0.0</td>\n",
       "      <td>1.0</td>\n",
       "    </tr>\n",
       "    <tr>\n",
       "      <th>2</th>\n",
       "      <td>22</td>\n",
       "      <td>1092306</td>\n",
       "      <td>2019-01-10T14:09:40.000</td>\n",
       "      <td>COPA</td>\n",
       "      <td>Complaint</td>\n",
       "      <td>Pending Investigation</td>\n",
       "      <td>Operational Violation</td>\n",
       "      <td>NaN</td>\n",
       "      <td>No</td>\n",
       "      <td>411</td>\n",
       "      <td>...</td>\n",
       "      <td>NaN</td>\n",
       "      <td>NaN</td>\n",
       "      <td>NaN</td>\n",
       "      <td>1.0</td>\n",
       "      <td>0.0</td>\n",
       "      <td>0.0</td>\n",
       "      <td>0.0</td>\n",
       "      <td>0.0</td>\n",
       "      <td>0.0</td>\n",
       "      <td>1.0</td>\n",
       "    </tr>\n",
       "    <tr>\n",
       "      <th>3</th>\n",
       "      <td>23</td>\n",
       "      <td>1092305</td>\n",
       "      <td>2019-01-10T13:55:51.000</td>\n",
       "      <td>COPA</td>\n",
       "      <td>Complaint</td>\n",
       "      <td>Pending Investigation</td>\n",
       "      <td>Unlawful Denial of Counsel</td>\n",
       "      <td>NaN</td>\n",
       "      <td>No</td>\n",
       "      <td>1933</td>\n",
       "      <td>...</td>\n",
       "      <td>0.0</td>\n",
       "      <td>0.0</td>\n",
       "      <td>1.0</td>\n",
       "      <td>0.0</td>\n",
       "      <td>0.0</td>\n",
       "      <td>0.0</td>\n",
       "      <td>1.0</td>\n",
       "      <td>0.0</td>\n",
       "      <td>0.0</td>\n",
       "      <td>1.0</td>\n",
       "    </tr>\n",
       "    <tr>\n",
       "      <th>4</th>\n",
       "      <td>24</td>\n",
       "      <td>1092304</td>\n",
       "      <td>2019-01-10T13:24:46.000</td>\n",
       "      <td>COPA</td>\n",
       "      <td>Complaint</td>\n",
       "      <td>Pending Investigation</td>\n",
       "      <td>Civil Suits</td>\n",
       "      <td>NaN</td>\n",
       "      <td>No</td>\n",
       "      <td>835</td>\n",
       "      <td>...</td>\n",
       "      <td>0.0</td>\n",
       "      <td>4.0</td>\n",
       "      <td>6.0</td>\n",
       "      <td>0.0</td>\n",
       "      <td>0.0</td>\n",
       "      <td>0.0</td>\n",
       "      <td>0.0</td>\n",
       "      <td>1.0</td>\n",
       "      <td>0.0</td>\n",
       "      <td>1.0</td>\n",
       "    </tr>\n",
       "  </tbody>\n",
       "</table>\n",
       "<p>5 rows × 34 columns</p>\n",
       "</div>"
      ],
      "text/plain": [
       "   Unnamed: 0   LOG_NO           COMPLAINT_DATE ASSIGNMENT  CASE_TYPE  \\\n",
       "0           4  1092325  2019-01-11T15:18:16.000       COPA  Complaint   \n",
       "1          16  1092312  2019-01-11T00:50:55.000       COPA  Complaint   \n",
       "2          22  1092306  2019-01-10T14:09:40.000       COPA  Complaint   \n",
       "3          23  1092305  2019-01-10T13:55:51.000       COPA  Complaint   \n",
       "4          24  1092304  2019-01-10T13:24:46.000       COPA  Complaint   \n",
       "\n",
       "          CURRENT_STATUS            CURRENT_CATEGORY FINDING_CODE  \\\n",
       "0  Pending Investigation             Excessive Force          NaN   \n",
       "1  Pending Investigation             Excessive Force          NaN   \n",
       "2  Pending Investigation       Operational Violation          NaN   \n",
       "3  Pending Investigation  Unlawful Denial of Counsel          NaN   \n",
       "4  Pending Investigation                 Civil Suits          NaN   \n",
       "\n",
       "  POLICE_SHOOTING  BEAT  ... num_unknown_officers num_white_officers  \\\n",
       "0              No  1132  ...                  NaN                NaN   \n",
       "1              No  1114  ...                  NaN                NaN   \n",
       "2              No   411  ...                  NaN                NaN   \n",
       "3              No  1933  ...                  0.0                0.0   \n",
       "4              No   835  ...                  0.0                4.0   \n",
       "\n",
       "  num_police_officers num_black_complainants num_native_complainants  \\\n",
       "0                 NaN                    2.0                     0.0   \n",
       "1                 NaN                    1.0                     0.0   \n",
       "2                 NaN                    1.0                     0.0   \n",
       "3                 1.0                    0.0                     0.0   \n",
       "4                 6.0                    0.0                     0.0   \n",
       "\n",
       "  num_asian_complainants num_hispanic_complainants  num_unknown_complainants  \\\n",
       "0                    0.0                       0.0                       0.0   \n",
       "1                    0.0                       0.0                       0.0   \n",
       "2                    0.0                       0.0                       0.0   \n",
       "3                    0.0                       1.0                       0.0   \n",
       "4                    0.0                       0.0                       1.0   \n",
       "\n",
       "   num_white_complainants  num_complainants  \n",
       "0                     0.0               2.0  \n",
       "1                     0.0               1.0  \n",
       "2                     0.0               1.0  \n",
       "3                     0.0               1.0  \n",
       "4                     0.0               1.0  \n",
       "\n",
       "[5 rows x 34 columns]"
      ]
     },
     "execution_count": 3,
     "metadata": {},
     "output_type": "execute_result"
    }
   ],
   "source": [
    "complaints.head()"
   ]
  },
  {
   "cell_type": "code",
   "execution_count": 4,
   "id": "78c4e4ed-68fc-4833-a06c-479b15b4cd15",
   "metadata": {},
   "outputs": [
    {
     "data": {
      "text/plain": [
       "(23556, 34)"
      ]
     },
     "execution_count": 4,
     "metadata": {},
     "output_type": "execute_result"
    }
   ],
   "source": [
    "complaints.shape"
   ]
  },
  {
   "cell_type": "code",
   "execution_count": 5,
   "id": "2791ca10-16d9-4763-bde6-2ee4b447823b",
   "metadata": {},
   "outputs": [
    {
     "data": {
      "text/plain": [
       "Unnamed: 0                              0.000000\n",
       "LOG_NO                                  0.000000\n",
       "COMPLAINT_DATE                          0.000000\n",
       "ASSIGNMENT                              0.000000\n",
       "CASE_TYPE                               0.000000\n",
       "CURRENT_STATUS                          0.000000\n",
       "CURRENT_CATEGORY                        0.305655\n",
       "FINDING_CODE                            5.043301\n",
       "POLICE_SHOOTING                         0.000000\n",
       "BEAT                                    0.000000\n",
       "RACE_OF_COMPLAINANTS                    6.469689\n",
       "SEX_OF_COMPLAINANTS                     6.469689\n",
       "AGE_OF_COMPLAINANTS                     6.469689\n",
       "RACE_OF_INVOLVED_OFFICERS              25.938190\n",
       "SEX_OF_INVOLVED_OFFICERS               25.938190\n",
       "AGE_OF_INVOLVED_OFFICERS               25.938190\n",
       "YEARS_ON_FORCE_OF_INVOLVED_OFFICERS    25.938190\n",
       "COMPLAINT_HOUR                          0.000000\n",
       "COMPLAINT_DAY                           0.000000\n",
       "COMPLAINT_MONTH                         0.000000\n",
       "num_black_officers                     25.938190\n",
       "num_native_officers                    25.938190\n",
       "num_asian_officers                     25.938190\n",
       "num_hispanic_officers                  25.938190\n",
       "num_unknown_officers                   25.938190\n",
       "num_white_officers                     25.938190\n",
       "num_police_officers                    25.938190\n",
       "num_black_complainants                  6.469689\n",
       "num_native_complainants                 6.469689\n",
       "num_asian_complainants                  6.469689\n",
       "num_hispanic_complainants               6.469689\n",
       "num_unknown_complainants                6.469689\n",
       "num_white_complainants                  6.469689\n",
       "num_complainants                        6.469689\n",
       "dtype: float64"
      ]
     },
     "execution_count": 5,
     "metadata": {},
     "output_type": "execute_result"
    }
   ],
   "source": [
    "'''\n",
    "Compute the %missing for each columns in the dataset\n",
    "'''\n",
    "\n",
    "complaints.isnull().sum()/len(complaints)*100"
   ]
  },
  {
   "cell_type": "markdown",
   "id": "1b1a7293-b1bf-4f04-9691-7c506595233c",
   "metadata": {},
   "source": [
    "# FILTER OUT ROWS THAT HAVE EMPTY VALUES FOR 'RACE_OF_COMPLAINANTS' AND 'RACE_OF_INVOLVED_OFFICERS' COLUMNS "
   ]
  },
  {
   "cell_type": "code",
   "execution_count": 6,
   "id": "782851f3-50d7-46f2-8bc1-38bdfa550fc9",
   "metadata": {},
   "outputs": [
    {
     "name": "stdout",
     "output_type": "stream",
     "text": [
      "Unnamed: 0                               0\n",
      "LOG_NO                                   0\n",
      "COMPLAINT_DATE                           0\n",
      "ASSIGNMENT                               0\n",
      "CASE_TYPE                                0\n",
      "CURRENT_STATUS                           0\n",
      "CURRENT_CATEGORY                        44\n",
      "FINDING_CODE                           902\n",
      "POLICE_SHOOTING                          0\n",
      "BEAT                                     0\n",
      "RACE_OF_COMPLAINANTS                     0\n",
      "SEX_OF_COMPLAINANTS                      0\n",
      "AGE_OF_COMPLAINANTS                      0\n",
      "RACE_OF_INVOLVED_OFFICERS                0\n",
      "SEX_OF_INVOLVED_OFFICERS                 0\n",
      "AGE_OF_INVOLVED_OFFICERS                 0\n",
      "YEARS_ON_FORCE_OF_INVOLVED_OFFICERS      0\n",
      "COMPLAINT_HOUR                           0\n",
      "COMPLAINT_DAY                            0\n",
      "COMPLAINT_MONTH                          0\n",
      "num_black_officers                       0\n",
      "num_native_officers                      0\n",
      "num_asian_officers                       0\n",
      "num_hispanic_officers                    0\n",
      "num_unknown_officers                     0\n",
      "num_white_officers                       0\n",
      "num_police_officers                      0\n",
      "num_black_complainants                   0\n",
      "num_native_complainants                  0\n",
      "num_asian_complainants                   0\n",
      "num_hispanic_complainants                0\n",
      "num_unknown_complainants                 0\n",
      "num_white_complainants                   0\n",
      "num_complainants                         0\n",
      "dtype: int64\n"
     ]
    }
   ],
   "source": [
    "'''\n",
    "The code below filters out rows that have empty values for 'RACE_OF_COMPLAINANTS' and 'RACE_OF_INVOLVED_OFFICERS'.\n",
    "'''\n",
    "\n",
    "notnull_offcier = complaints.RACE_OF_INVOLVED_OFFICERS.notnull()\n",
    "notnull_complaintnant = complaints.RACE_OF_COMPLAINANTS.notnull()\n",
    "\n",
    "#The filter only keeps rows that have non-null values in both RACE_OF_INVOLVED_OFFICERS and RACE_OF_COMPLAINANTS.\n",
    "boolean_filter = notnull_offcier & notnull_complaintnant\n",
    "\n",
    "#apply the boolean filter to the original dataframe\n",
    "filtered_complaints = complaints[boolean_filter]\n",
    "\n",
    "#check for the number of nullvlaues for each column. All rows are filtered out.\n",
    "print(filtered_complaints.isnull().sum())"
   ]
  },
  {
   "cell_type": "markdown",
   "id": "39428458-d052-40fd-95fd-4935868c632e",
   "metadata": {},
   "source": [
    "All rows with null values in 'RACE_OF_INVOLVED_OFFICERS' and 'RACE_OF_COMPLAINANTS' have been dropped"
   ]
  },
  {
   "cell_type": "markdown",
   "id": "80614230-0ed2-475b-8647-1a2d253f08ac",
   "metadata": {},
   "source": [
    "# ANALYZING THE NUMBER OF POLICE OFFICERS INVOLVED IN COMPLAINTS"
   ]
  },
  {
   "cell_type": "markdown",
   "id": "cc8e6a83-2b21-4a39-a5f9-bb645f527ccc",
   "metadata": {},
   "source": [
    "<b> FINDINGS: </b>\n",
    "\n",
    "1. Approximately 94% of complaints involve 3 or less police officers\n",
    "2. 66% of complaints only involve 1 police officer.\n",
    "3. 22% of complaints involve 2 police officers.\n",
    "4. 11569 complaints inolve only 1 police officer.\n",
    "5. 3867 complaints involve 2 police officers.\n",
    "6. 1034 complaints involve 3 police officers."
   ]
  },
  {
   "cell_type": "code",
   "execution_count": 7,
   "id": "126548ce-405d-4869-8eea-f280794b0969",
   "metadata": {},
   "outputs": [
    {
     "data": {
      "text/plain": [
       "1.0     11569\n",
       "2.0      3867\n",
       "3.0      1034\n",
       "4.0       488\n",
       "5.0       183\n",
       "6.0        91\n",
       "7.0        85\n",
       "8.0        34\n",
       "9.0        23\n",
       "10.0       22\n",
       "11.0       16\n",
       "12.0       10\n",
       "13.0        5\n",
       "14.0        5\n",
       "15.0        5\n",
       "16.0        2\n",
       "18.0        1\n",
       "19.0        1\n",
       "22.0        2\n",
       "23.0        1\n",
       "32.0        1\n",
       "49.0        1\n",
       "Name: num_police_officers, dtype: int64"
      ]
     },
     "execution_count": 7,
     "metadata": {},
     "output_type": "execute_result"
    }
   ],
   "source": [
    "'''\n",
    "Distribution of the number of police officers involved in a single complaint.\n",
    "\n",
    "INTERPRETATION EXAMPLE:\n",
    "\n",
    "1. 11569 complaints involve only 1 police officer.\n",
    "2. 3867 complaints involve 2 police officers.\n",
    "3. 1034 complaints involve 3 police officers.\n",
    "'''\n",
    "\n",
    "num_officers_involved = complaints.num_police_officers.value_counts().sort_index()\n",
    "num_officers_involved"
   ]
  },
  {
   "cell_type": "code",
   "execution_count": 8,
   "id": "ed6d52df-5528-4898-8646-af962b684368",
   "metadata": {},
   "outputs": [
    {
     "data": {
      "text/plain": [
       "Text(0, 0.5, 'Total Number of Officers')"
      ]
     },
     "execution_count": 8,
     "metadata": {},
     "output_type": "execute_result"
    },
    {
     "data": {
      "image/png": "[encoded data removed]",
      "text/plain": [
       "<Figure size 432x288 with 1 Axes>"
      ]
     },
     "metadata": {
      "needs_background": "light"
     },
     "output_type": "display_data"
    }
   ],
   "source": [
    "num_officers_involved.plot(kind='bar')\n",
    "plt.title(\"Distribution of Number of Police Officers Involved in Single Complaint\")\n",
    "plt.xlabel(\"Number of police officers\")\n",
    "plt.ylabel(\"Total Number of Officers\")"
   ]
  },
  {
   "cell_type": "code",
   "execution_count": 9,
   "id": "2f8ee3c4-c4c7-4217-9427-8e114524fa04",
   "metadata": {},
   "outputs": [
    {
     "data": {
      "text/plain": [
       "1.0     66.313195\n",
       "2.0     22.165539\n",
       "3.0      5.926860\n",
       "4.0      2.797203\n",
       "5.0      1.048951\n",
       "6.0      0.521610\n",
       "7.0      0.487218\n",
       "8.0      0.194887\n",
       "9.0      0.131835\n",
       "10.0     0.126103\n",
       "11.0     0.091712\n",
       "12.0     0.057320\n",
       "13.0     0.028660\n",
       "14.0     0.028660\n",
       "15.0     0.028660\n",
       "16.0     0.011464\n",
       "18.0     0.005732\n",
       "19.0     0.005732\n",
       "22.0     0.011464\n",
       "23.0     0.005732\n",
       "32.0     0.005732\n",
       "49.0     0.005732\n",
       "Name: num_police_officers, dtype: float64"
      ]
     },
     "execution_count": 9,
     "metadata": {},
     "output_type": "execute_result"
    }
   ],
   "source": [
    "'''\n",
    "The code below shows the relative frequency distribution for the number of police officers involved in a single complaint.\n",
    "\n",
    "INTERPRETATION EXAMPLE:\n",
    "\n",
    "1. 66% of complaints involve 1 police officer.\n",
    "2. 22% of complaints involve 2 police officers.\n",
    "3. 6% of complaints involve 3 police officers.\n",
    "'''\n",
    "\n",
    "num_officers_involved/num_officers_involved.sum()*100"
   ]
  },
  {
   "cell_type": "markdown",
   "id": "4356a4c0-fa83-40dc-b2d4-202e899d6463",
   "metadata": {},
   "source": [
    "# CORRELATION MATRIX FOR OFFICER AND COMPLIANANT RACES (STANDARDIZED)"
   ]
  },
  {
   "cell_type": "markdown",
   "id": "7e87fce0-7252-48d0-9012-defbe864958f",
   "metadata": {},
   "source": [
    "<b>The purpose of this section is to determine correlations between the races of complainants and officers. </b>\n",
    "\n",
    "<font size=\"4\"> <b> SUMMARY OF FINDINGS IN CORREALATION STUDY (PRELIMINARY) </b> </font>\n",
    "\n"
   ]
  },
  {
   "cell_type": "code",
   "execution_count": 10,
   "id": "69dafff8-2918-48b5-8d17-0554541bdb9f",
   "metadata": {},
   "outputs": [
    {
     "data": {
      "text/html": [
       "<div>\n",
       "<style scoped>\n",
       "    .dataframe tbody tr th:only-of-type {\n",
       "        vertical-align: middle;\n",
       "    }\n",
       "\n",
       "    .dataframe tbody tr th {\n",
       "        vertical-align: top;\n",
       "    }\n",
       "\n",
       "    .dataframe thead th {\n",
       "        text-align: right;\n",
       "    }\n",
       "</style>\n",
       "<table border=\"1\" class=\"dataframe\">\n",
       "  <thead>\n",
       "    <tr style=\"text-align: right;\">\n",
       "      <th></th>\n",
       "      <th>complainant_percent</th>\n",
       "      <th>officer_percent</th>\n",
       "      <th>Spearman correlation coefficient</th>\n",
       "      <th>p-value</th>\n",
       "      <th>significance?</th>\n",
       "    </tr>\n",
       "  </thead>\n",
       "  <tbody>\n",
       "    <tr>\n",
       "      <th>0</th>\n",
       "      <td>black</td>\n",
       "      <td>black</td>\n",
       "      <td>0.21</td>\n",
       "      <td>1.0302766316806912e-158</td>\n",
       "      <td>SIGNIFICANT RESULT</td>\n",
       "    </tr>\n",
       "    <tr>\n",
       "      <th>1</th>\n",
       "      <td>hispanic</td>\n",
       "      <td>hispanic</td>\n",
       "      <td>0.14</td>\n",
       "      <td>1.2898153757184937e-66</td>\n",
       "      <td>SIGNIFICANT RESULT</td>\n",
       "    </tr>\n",
       "    <tr>\n",
       "      <th>2</th>\n",
       "      <td>white</td>\n",
       "      <td>white</td>\n",
       "      <td>0.13</td>\n",
       "      <td>9.20438964202533e-61</td>\n",
       "      <td>SIGNIFICANT RESULT</td>\n",
       "    </tr>\n",
       "  </tbody>\n",
       "</table>\n",
       "</div>"
      ],
      "text/plain": [
       "  complainant_percent officer_percent  Spearman correlation coefficient  \\\n",
       "0               black           black                              0.21   \n",
       "1            hispanic        hispanic                              0.14   \n",
       "2               white           white                              0.13   \n",
       "\n",
       "                   p-value       significance?  \n",
       "0  1.0302766316806912e-158  SIGNIFICANT RESULT  \n",
       "1   1.2898153757184937e-66  SIGNIFICANT RESULT  \n",
       "2     9.20438964202533e-61  SIGNIFICANT RESULT  "
      ]
     },
     "execution_count": 10,
     "metadata": {},
     "output_type": "execute_result"
    }
   ],
   "source": [
    "'''\n",
    "NOTE: This project is a work in progress, and the results are preliminary.\n",
    "\n",
    "Below is a table showing the correlation between complainants and officers' races.\n",
    "\n",
    "METHODOLOGY:\n",
    "\n",
    "Spearman's correlation coefficient was used because the metric does not assume normality \n",
    "between independent and dependent variables. Furthermore, the p-value calculation does not assume normality.\n",
    "\n",
    "INTERPRETATION OF FINDINGS:\n",
    "\n",
    "1. The more black complainants are involved, the greater number of black police officers are involved.\n",
    "2. The more Hispanic complainants are involved, the greater number of Hispanic police officers are involved.\n",
    "3. The more white complainants are involved, the greater number of white police officers are involved.\n",
    "\n",
    "All three have a very weak correlation but are statistically significant \n",
    "due to extremely small p-values. \n",
    "\n",
    "Further improvement in methodologies and further study is required to yield more evident results.\n",
    "'''\n",
    "\n",
    "pd.DataFrame({'complainant_percent':['black','hispanic','white'],\n",
    "              'officer_percent':['black','hispanic','white'],\n",
    "              'Spearman correlation coefficient':[0.21,0.14,0.13],\n",
    "              'p-value':['1.0302766316806912e-158','1.2898153757184937e-66','9.20438964202533e-61'],\n",
    "              'significance?':['SIGNIFICANT RESULT','SIGNIFICANT RESULT','SIGNIFICANT RESULT']})"
   ]
  },
  {
   "cell_type": "code",
   "execution_count": 11,
   "id": "b1341619-f617-4616-b8dd-ebe103859822",
   "metadata": {},
   "outputs": [],
   "source": [
    "from scipy.stats import spearmanr"
   ]
  },
  {
   "cell_type": "code",
   "execution_count": 12,
   "id": "c35dfad8-da8c-431c-9983-5b3935f82224",
   "metadata": {},
   "outputs": [
    {
     "name": "stderr",
     "output_type": "stream",
     "text": [
      "C:\\Users\\ANGELO~1\\AppData\\Local\\Temp/ipykernel_9036/3041132469.py:20: SettingWithCopyWarning: \n",
      "A value is trying to be set on a copy of a slice from a DataFrame.\n",
      "Try using .loc[row_indexer,col_indexer] = value instead\n",
      "\n",
      "See the caveats in the documentation: https://pandas.pydata.org/pandas-docs/stable/user_guide/indexing.html#returning-a-view-versus-a-copy\n",
      "  filtered_complaints[officer_race[4:]+'_percent'] = filtered_complaints[officer_race]/filtered_complaints['num_police_officers']*100\n",
      "C:\\Users\\ANGELO~1\\AppData\\Local\\Temp/ipykernel_9036/3041132469.py:27: SettingWithCopyWarning: \n",
      "A value is trying to be set on a copy of a slice from a DataFrame.\n",
      "Try using .loc[row_indexer,col_indexer] = value instead\n",
      "\n",
      "See the caveats in the documentation: https://pandas.pydata.org/pandas-docs/stable/user_guide/indexing.html#returning-a-view-versus-a-copy\n",
      "  filtered_complaints[complainant_race[4:]+'_percent'] = filtered_complaints[complainant_race]/filtered_complaints['num_complainants']*100\n"
     ]
    }
   ],
   "source": [
    "'''\n",
    "Standardizes the race count columns for complainants \n",
    "and officer races. The code below converts race columns into percentages.\n",
    "\n",
    "EXAMPLE: Given the COLUMNS below:\n",
    "\n",
    "num_hispanic_complainants  num_white_complainants   num_complianants   num_black_officers   num_white_officers  num_officers\n",
    "          2                        3                      5                   3                    5                8\n",
    "\n",
    "The rows above will be converted to:\n",
    "\n",
    "hispanic_complainants_percent    white_complainants_percent     black_officers_percent    white_officers_percent\n",
    "    2/5 = 40%                         3/5  = 60%                      3/8 = 37.5%              5/8 = 62.5%\n",
    "'''\n",
    "\n",
    "officer_races = ['num_black_officers','num_native_officers','num_asian_officers',\n",
    "                 'num_hispanic_officers','num_unknown_officers','num_white_officers']\n",
    "\n",
    "for officer_race in officer_races:\n",
    "    filtered_complaints[officer_race[4:]+'_percent'] = filtered_complaints[officer_race]/filtered_complaints['num_police_officers']*100\n",
    "\n",
    "\n",
    "complaintnant_races = ['num_black_complainants','num_native_complainants','num_asian_complainants',\n",
    "                       'num_hispanic_complainants','num_unknown_complainants','num_white_complainants',]\n",
    "\n",
    "for complainant_race in complaintnant_races:\n",
    "    filtered_complaints[complainant_race[4:]+'_percent'] = filtered_complaints[complainant_race]/filtered_complaints['num_complainants']*100"
   ]
  },
  {
   "cell_type": "code",
   "execution_count": 13,
   "id": "9ee6a3b6-1ffe-43f6-a48f-65a0adab13ba",
   "metadata": {},
   "outputs": [
    {
     "data": {
      "text/plain": [
       "<AxesSubplot:>"
      ]
     },
     "execution_count": 13,
     "metadata": {},
     "output_type": "execute_result"
    },
    {
     "data": {
      "image/png": "[encoded data removed]",
      "text/plain": [
       "<Figure size 432x288 with 2 Axes>"
      ]
     },
     "metadata": {
      "needs_background": "light"
     },
     "output_type": "display_data"
    }
   ],
   "source": [
    "'''\n",
    "Pearsons correlation matrix between race of % complainants and % officers.\n",
    "'''\n",
    "\n",
    "filter_cols = filtered_complaints.columns[35:]\n",
    "\n",
    "race_only = filtered_complaints[filter_cols].corr()\n",
    "\n",
    "sns.heatmap(race_only)\n"
   ]
  },
  {
   "cell_type": "code",
   "execution_count": 14,
   "id": "0a1c1a1f-8311-41b7-b7a1-ebc183e9631e",
   "metadata": {},
   "outputs": [
    {
     "data": {
      "text/plain": [
       "<AxesSubplot:>"
      ]
     },
     "execution_count": 14,
     "metadata": {},
     "output_type": "execute_result"
    },
    {
     "data": {
      "image/png": "[encoded data removed]",
      "text/plain": [
       "<Figure size 432x288 with 2 Axes>"
      ]
     },
     "metadata": {
      "needs_background": "light"
     },
     "output_type": "display_data"
    }
   ],
   "source": [
    "'''\n",
    "Spearman's correlation matrix between race of % complainants and % officers.\n",
    "'''\n",
    "\n",
    "filter_cols = filtered_complaints.columns[35:]\n",
    "\n",
    "race_only = filtered_complaints[filter_cols].corr(method='spearman')\n",
    "\n",
    "sns.heatmap(race_only)"
   ]
  },
  {
   "cell_type": "code",
   "execution_count": 15,
   "id": "8ab2a933-f2e1-48f2-a5ab-09b90307bbc2",
   "metadata": {},
   "outputs": [
    {
     "name": "stdout",
     "output_type": "stream",
     "text": [
      "SpearmanrResult(correlation=0.20894722602306007, pvalue=1.0302766316806912e-158)\n"
     ]
    },
    {
     "data": {
      "text/plain": [
       "<AxesSubplot:xlabel='black_complainants_percent', ylabel='black_officers_percent'>"
      ]
     },
     "execution_count": 15,
     "metadata": {},
     "output_type": "execute_result"
    },
    {
     "data": {
      "image/png": "[encoded data removed]",
      "text/plain": [
       "<Figure size 432x288 with 1 Axes>"
      ]
     },
     "metadata": {
      "needs_background": "light"
     },
     "output_type": "display_data"
    }
   ],
   "source": [
    "'''\n",
    "black_complainants_percent vs. black_officers_percent\n",
    "\n",
    "SpearmanrResult(correlation=0.20894722602306007, pvalue=1.0302766316806912e-158)\n",
    "'''\n",
    "\n",
    "r_black = spearmanr(filtered_complaints.black_complainants_percent,filtered_complaints.black_officers_percent)\n",
    "print(r_black)\n",
    "sns.regplot(data=filtered_complaints, x='black_complainants_percent',y='black_officers_percent')"
   ]
  },
  {
   "cell_type": "code",
   "execution_count": 16,
   "id": "8f160c5e-5ea5-4a23-9384-27a55d07489f",
   "metadata": {},
   "outputs": [
    {
     "name": "stdout",
     "output_type": "stream",
     "text": [
      "SpearmanrResult(correlation=0.13509123561928396, pvalue=1.2898153757184937e-66)\n"
     ]
    },
    {
     "data": {
      "text/plain": [
       "<AxesSubplot:xlabel='hispanic_complainants_percent', ylabel='hispanic_officers_percent'>"
      ]
     },
     "execution_count": 16,
     "metadata": {},
     "output_type": "execute_result"
    },
    {
     "data": {
      "image/png": "[encoded data removed]",
      "text/plain": [
       "<Figure size 432x288 with 1 Axes>"
      ]
     },
     "metadata": {
      "needs_background": "light"
     },
     "output_type": "display_data"
    }
   ],
   "source": [
    "'''\n",
    "hispanic_complainants_percent vs. hispanic_officers_percent\n",
    "\n",
    "SpearmanrResult(correlation=0.13509123561928396, pvalue=1.2898153757184937e-66)\n",
    "'''\n",
    "\n",
    "r_hispanic = spearmanr(filtered_complaints.hispanic_complainants_percent,filtered_complaints.hispanic_officers_percent)\n",
    "print(r_hispanic)\n",
    "sns.regplot(data=filtered_complaints, x='hispanic_complainants_percent',y='hispanic_officers_percent')"
   ]
  },
  {
   "cell_type": "code",
   "execution_count": 17,
   "id": "f2574f5f-7950-4d80-adba-0b21b516c52c",
   "metadata": {},
   "outputs": [
    {
     "name": "stdout",
     "output_type": "stream",
     "text": [
      "SpearmanrResult(correlation=0.12889679273049592, pvalue=9.20438964202533e-61)\n"
     ]
    },
    {
     "data": {
      "text/plain": [
       "<AxesSubplot:xlabel='white_complainants_percent', ylabel='white_officers_percent'>"
      ]
     },
     "execution_count": 17,
     "metadata": {},
     "output_type": "execute_result"
    },
    {
     "data": {
      "image/png": "[encoded data removed]",
      "text/plain": [
       "<Figure size 432x288 with 1 Axes>"
      ]
     },
     "metadata": {
      "needs_background": "light"
     },
     "output_type": "display_data"
    }
   ],
   "source": [
    "'''\n",
    "white_complainants_percent vs. white_officers_percent\n",
    "\n",
    "SpearmanrResult(correlation=0.12889679273049592, pvalue=9.20438964202533e-61)\n",
    "'''\n",
    "\n",
    "r_white = spearmanr(filtered_complaints.white_complainants_percent,filtered_complaints.white_officers_percent)\n",
    "print(r_white)\n",
    "sns.regplot(data=filtered_complaints, x='white_complainants_percent',y='white_officers_percent')"
   ]
  },
  {
   "cell_type": "code",
   "execution_count": 18,
   "id": "ab564464-b441-478c-80e3-c7b360ea26dd",
   "metadata": {},
   "outputs": [
    {
     "name": "stdout",
     "output_type": "stream",
     "text": [
      "SpearmanrResult(correlation=-0.5574980513613024, pvalue=0.0)\n"
     ]
    },
    {
     "data": {
      "text/plain": [
       "<AxesSubplot:xlabel='white_complainants_percent', ylabel='black_complainants_percent'>"
      ]
     },
     "execution_count": 18,
     "metadata": {},
     "output_type": "execute_result"
    },
    {
     "data": {
      "image/png": "[encoded data removed]",
      "text/plain": [
       "<Figure size 432x288 with 1 Axes>"
      ]
     },
     "metadata": {
      "needs_background": "light"
     },
     "output_type": "display_data"
    }
   ],
   "source": [
    "'''\n",
    "white_complainants_percent vs. black_complainants_percent\n",
    "\n",
    "SpearmanrResult(correlation=-0.5574980513613024, pvalue=0.0)\n",
    "'''\n",
    "\n",
    "r1 = spearmanr(filtered_complaints.white_complainants_percent,filtered_complaints.black_complainants_percent)\n",
    "print(r1)\n",
    "sns.regplot(data=filtered_complaints, x='white_complainants_percent',y='black_complainants_percent')"
   ]
  },
  {
   "cell_type": "code",
   "execution_count": 19,
   "id": "1de63b89-e3a4-4498-91f1-6cc1aa105c91",
   "metadata": {},
   "outputs": [
    {
     "name": "stdout",
     "output_type": "stream",
     "text": [
      "SpearmanrResult(correlation=-0.6485642096340588, pvalue=0.0)\n"
     ]
    },
    {
     "data": {
      "text/plain": [
       "<AxesSubplot:xlabel='hispanic_complainants_percent', ylabel='black_complainants_percent'>"
      ]
     },
     "execution_count": 19,
     "metadata": {},
     "output_type": "execute_result"
    },
    {
     "data": {
      "image/png": "[encoded data removed]",
      "text/plain": [
       "<Figure size 432x288 with 1 Axes>"
      ]
     },
     "metadata": {
      "needs_background": "light"
     },
     "output_type": "display_data"
    }
   ],
   "source": [
    "'''\n",
    "hispanic_complainants_percent vs. black_complainants_percent\n",
    "\n",
    "SpearmanrResult(correlation=-0.6485642096340588, pvalue=0.0)\n",
    "'''\n",
    "\n",
    "r2 = spearmanr(filtered_complaints.hispanic_complainants_percent,filtered_complaints.black_complainants_percent)\n",
    "print(r2)\n",
    "sns.regplot(data=filtered_complaints, x='hispanic_complainants_percent',y='black_complainants_percent')"
   ]
  },
  {
   "cell_type": "markdown",
   "id": "a7e80199-4902-494a-924e-d22178a4f5da",
   "metadata": {},
   "source": [
    "# ANALYZING RACE INTERACTION BETWEEN COMPLAINANTS AND OFFICERS"
   ]
  },
  {
   "cell_type": "markdown",
   "id": "cba8a0df-87fa-4078-ba38-65cc42761977",
   "metadata": {},
   "source": [
    "<font size=\"4\"> <b> NOTE: THIS SECTION IS WORK IN PROGRESS </b> </font>\n",
    "\n",
    "This section aims to analyze race interactions between police officers and complainants.\n",
    "\n",
    "Specifically, this section analyzes if specific races of complainants are more likely to file a complaint against specific races of police officers.\n",
    "\n",
    "For example: Are whites more likely to file a complaint against Hispanic police officers? \n",
    "\n",
    "METHODOLOGY:\n",
    "\n",
    "1. Filter for complaints where most complainants are of one race. The threshold to determine the majority is 75% of one race. For example, 75% of complainants are Hispanics.\n",
    "2. After filtering, analyze the race distribution of police officers involved.\n",
    "\n",
    "\n",
    "\n",
    "\n"
   ]
  },
  {
   "cell_type": "code",
   "execution_count": 20,
   "id": "e5eea35e-8de3-4d98-bb7d-22c8e5c8e845",
   "metadata": {},
   "outputs": [
    {
     "name": "stderr",
     "output_type": "stream",
     "text": [
      "C:\\Users\\ANGELO~1\\AppData\\Local\\Temp/ipykernel_9036/3140607151.py:11: SettingWithCopyWarning: \n",
      "A value is trying to be set on a copy of a slice from a DataFrame.\n",
      "Try using .loc[row_indexer,col_indexer] = value instead\n",
      "\n",
      "See the caveats in the documentation: https://pandas.pydata.org/pandas-docs/stable/user_guide/indexing.html#returning-a-view-versus-a-copy\n",
      "  filtered_complaints['percent_black_complainant'] = (filtered_complaints['num_black_complainants']/filtered_complaints['num_complainants'])*100\n"
     ]
    }
   ],
   "source": [
    "'''\n",
    "The code below is the prototype code for the methodology described above.\n",
    "\n",
    "Furthermore, the code below calculates the distribution of races of police \n",
    "officers where the complainants are mostly black or all black.\n",
    "\n",
    "The threshold for determining \"majority %\" is 75%.\n",
    "'''\n",
    "\n",
    "#create a new columns that represents % complianants are black in a single case.\n",
    "filtered_complaints['percent_black_complainant'] = (filtered_complaints['num_black_complainants']/filtered_complaints['num_complainants'])*100\n",
    "\n",
    "#only select complaints where the majority of complainants are black.\n",
    "black_percent = filtered_complaints[filtered_complaints.percent_black_complainant >= 75]\n",
    "\n",
    "officer_columns = ['num_black_officers','num_native_officers','num_asian_officers','num_hispanic_officers','num_unknown_officers','num_white_officers']\n",
    "\n",
    "#calculate the officer distribution where the majority of complainants are black\n",
    "officer_sums = black_percent[officer_columns].sum()\n",
    "\n",
    "#calculate the relative frequency of the officer distribution where the majority of complainants are black\n",
    "officer_percents = officer_sums/black_percent['num_police_officers'].sum()*100\n"
   ]
  },
  {
   "cell_type": "code",
   "execution_count": 21,
   "id": "d7c7094c-c693-4165-8d25-13749a1dc3d7",
   "metadata": {},
   "outputs": [
    {
     "data": {
      "image/png": "[encoded data removed]",
      "text/plain": [
       "<Figure size 648x432 with 1 Axes>"
      ]
     },
     "metadata": {
      "needs_background": "light"
     },
     "output_type": "display_data"
    }
   ],
   "source": [
    "'''\n",
    "Distribution of officers races where 75% or more complainants are black.\n",
    "'''\n",
    "\n",
    "chart = officer_sums.sort_values().plot(kind='barh',figsize=(9,6))\n",
    "plt.title('dist. of officer races where the majority of complainants are black')\n",
    "for i, v in enumerate(officer_sums.sort_values().values):\n",
    "    chart.text(v+20, i, v)"
   ]
  },
  {
   "cell_type": "code",
   "execution_count": 22,
   "id": "9d7f6444-0542-41d7-8ceb-e22c56f03418",
   "metadata": {},
   "outputs": [
    {
     "data": {
      "image/png": "[encoded data removed]",
      "text/plain": [
       "<Figure size 648x432 with 1 Axes>"
      ]
     },
     "metadata": {
      "needs_background": "light"
     },
     "output_type": "display_data"
    }
   ],
   "source": [
    "'''\n",
    "Relative frequency of officer's races where 75% or more complainants are black.\n",
    "'''\n",
    "\n",
    "chart = officer_percents.sort_values().plot(kind='barh',figsize=(9,6))\n",
    "plt.title('relative frequency of officer races where the majority of complainants are black')\n",
    "for i, v in enumerate(officer_percents.sort_values().round(1).values):\n",
    "    chart.text(v+0.5, i, str(v)+'%')"
   ]
  },
  {
   "cell_type": "markdown",
   "id": "216bb55c-8d72-42fe-ab19-748592d75275",
   "metadata": {},
   "source": [
    "# ANALYZING THE RACES OF POLICE OFFICERS INVOLVED IN DIFFERENT CASE TYPES"
   ]
  },
  {
   "cell_type": "markdown",
   "id": "c089336f-7340-4578-873f-f71fc58b50ce",
   "metadata": {},
   "source": [
    "<font size=\"4\"> <b> NOTE: THIS SECTION  IS WORK IN PROGRESS </b> </font>\n",
    "    \n",
    "<font size=\"4\"> <b> The purpose of this section is to analyze the officer races involved in different allegations. </b> </font>\n",
    "\n",
    "SUMMARY OF FINDINGS:\n",
    "\n",
    "The top 5 allegations against police officers are: \n",
    "\n",
    "1. Excessive Force                  8487\n",
    "2. Taser Notification               4711\n",
    "3. Miscellaneous                    3021\n",
    "4. Verbal Abuse                     1463\n",
    "5. Unnecessary Display of Weapon    1016"
   ]
  },
  {
   "cell_type": "code",
   "execution_count": 23,
   "id": "213fdc24-1e8c-4304-bff6-4b77f1327f47",
   "metadata": {},
   "outputs": [],
   "source": [
    "one_officer = complaints"
   ]
  },
  {
   "cell_type": "code",
   "execution_count": 24,
   "id": "ede7eff8-bc97-4948-8196-a0eeed2d04ea",
   "metadata": {},
   "outputs": [
    {
     "data": {
      "text/plain": [
       "Excessive Force                  8487\n",
       "Taser Notification               4711\n",
       "Miscellaneous                    3021\n",
       "Verbal Abuse                     1463\n",
       "Unnecessary Display of Weapon    1016\n",
       "Firearm Discharge at Animal       731\n",
       "Civil Suits                       680\n",
       "Domestic Violence                 637\n",
       "Search or Seizure                 563\n",
       "Firearm Discharge - Hits          460\n",
       "Death or Injury In Custody        424\n",
       "OC Discharge                      413\n",
       "Firearm Discharge - No Hits       385\n",
       "Coercion                          169\n",
       "Operational Violation             135\n",
       "Taser Discharge                    96\n",
       "Motor Vehicle Related Death        45\n",
       "Legal Violation                    21\n",
       "Bias                               17\n",
       "Unlawful Denial of Counsel         10\n",
       "Name: CURRENT_CATEGORY, dtype: int64"
      ]
     },
     "execution_count": 24,
     "metadata": {},
     "output_type": "execute_result"
    }
   ],
   "source": [
    "'''\n",
    "Distribution of allegations against police officers.\n",
    "'''\n",
    "one_officer.CURRENT_CATEGORY.value_counts().sort_values(ascending=False)"
   ]
  },
  {
   "cell_type": "code",
   "execution_count": 25,
   "id": "5d632b3e-7924-4ed4-9850-4b88cef70ba1",
   "metadata": {},
   "outputs": [
    {
     "data": {
      "text/html": [
       "<div>\n",
       "<style scoped>\n",
       "    .dataframe tbody tr th:only-of-type {\n",
       "        vertical-align: middle;\n",
       "    }\n",
       "\n",
       "    .dataframe tbody tr th {\n",
       "        vertical-align: top;\n",
       "    }\n",
       "\n",
       "    .dataframe thead th {\n",
       "        text-align: right;\n",
       "    }\n",
       "</style>\n",
       "<table border=\"1\" class=\"dataframe\">\n",
       "  <thead>\n",
       "    <tr style=\"text-align: right;\">\n",
       "      <th></th>\n",
       "      <th>num_black_officers</th>\n",
       "      <th>num_native_officers</th>\n",
       "      <th>num_asian_officers</th>\n",
       "      <th>num_hispanic_officers</th>\n",
       "      <th>num_unknown_officers</th>\n",
       "      <th>num_white_officers</th>\n",
       "      <th>num_police_officers</th>\n",
       "    </tr>\n",
       "    <tr>\n",
       "      <th>CURRENT_CATEGORY</th>\n",
       "      <th></th>\n",
       "      <th></th>\n",
       "      <th></th>\n",
       "      <th></th>\n",
       "      <th></th>\n",
       "      <th></th>\n",
       "      <th></th>\n",
       "    </tr>\n",
       "  </thead>\n",
       "  <tbody>\n",
       "    <tr>\n",
       "      <th>Bias</th>\n",
       "      <td>2.0</td>\n",
       "      <td>0.0</td>\n",
       "      <td>0.0</td>\n",
       "      <td>9.0</td>\n",
       "      <td>0.0</td>\n",
       "      <td>8.0</td>\n",
       "      <td>19.0</td>\n",
       "    </tr>\n",
       "    <tr>\n",
       "      <th>Civil Suits</th>\n",
       "      <td>395.0</td>\n",
       "      <td>10.0</td>\n",
       "      <td>58.0</td>\n",
       "      <td>487.0</td>\n",
       "      <td>16.0</td>\n",
       "      <td>1157.0</td>\n",
       "      <td>2123.0</td>\n",
       "    </tr>\n",
       "    <tr>\n",
       "      <th>Coercion</th>\n",
       "      <td>61.0</td>\n",
       "      <td>0.0</td>\n",
       "      <td>2.0</td>\n",
       "      <td>32.0</td>\n",
       "      <td>1.0</td>\n",
       "      <td>106.0</td>\n",
       "      <td>202.0</td>\n",
       "    </tr>\n",
       "    <tr>\n",
       "      <th>Death or Injury In Custody</th>\n",
       "      <td>299.0</td>\n",
       "      <td>3.0</td>\n",
       "      <td>20.0</td>\n",
       "      <td>135.0</td>\n",
       "      <td>1.0</td>\n",
       "      <td>279.0</td>\n",
       "      <td>737.0</td>\n",
       "    </tr>\n",
       "    <tr>\n",
       "      <th>Domestic Violence</th>\n",
       "      <td>270.0</td>\n",
       "      <td>4.0</td>\n",
       "      <td>11.0</td>\n",
       "      <td>144.0</td>\n",
       "      <td>3.0</td>\n",
       "      <td>265.0</td>\n",
       "      <td>697.0</td>\n",
       "    </tr>\n",
       "    <tr>\n",
       "      <th>Excessive Force</th>\n",
       "      <td>2090.0</td>\n",
       "      <td>31.0</td>\n",
       "      <td>249.0</td>\n",
       "      <td>2083.0</td>\n",
       "      <td>48.0</td>\n",
       "      <td>4781.0</td>\n",
       "      <td>9282.0</td>\n",
       "    </tr>\n",
       "    <tr>\n",
       "      <th>Firearm Discharge - Hits</th>\n",
       "      <td>164.0</td>\n",
       "      <td>1.0</td>\n",
       "      <td>20.0</td>\n",
       "      <td>229.0</td>\n",
       "      <td>0.0</td>\n",
       "      <td>422.0</td>\n",
       "      <td>836.0</td>\n",
       "    </tr>\n",
       "    <tr>\n",
       "      <th>Firearm Discharge - No Hits</th>\n",
       "      <td>140.0</td>\n",
       "      <td>2.0</td>\n",
       "      <td>16.0</td>\n",
       "      <td>113.0</td>\n",
       "      <td>0.0</td>\n",
       "      <td>243.0</td>\n",
       "      <td>514.0</td>\n",
       "    </tr>\n",
       "    <tr>\n",
       "      <th>Firearm Discharge at Animal</th>\n",
       "      <td>248.0</td>\n",
       "      <td>3.0</td>\n",
       "      <td>10.0</td>\n",
       "      <td>214.0</td>\n",
       "      <td>0.0</td>\n",
       "      <td>410.0</td>\n",
       "      <td>885.0</td>\n",
       "    </tr>\n",
       "    <tr>\n",
       "      <th>Legal Violation</th>\n",
       "      <td>7.0</td>\n",
       "      <td>0.0</td>\n",
       "      <td>1.0</td>\n",
       "      <td>3.0</td>\n",
       "      <td>0.0</td>\n",
       "      <td>13.0</td>\n",
       "      <td>24.0</td>\n",
       "    </tr>\n",
       "    <tr>\n",
       "      <th>Miscellaneous</th>\n",
       "      <td>850.0</td>\n",
       "      <td>13.0</td>\n",
       "      <td>84.0</td>\n",
       "      <td>642.0</td>\n",
       "      <td>28.0</td>\n",
       "      <td>1447.0</td>\n",
       "      <td>3064.0</td>\n",
       "    </tr>\n",
       "    <tr>\n",
       "      <th>Motor Vehicle Related Death</th>\n",
       "      <td>14.0</td>\n",
       "      <td>0.0</td>\n",
       "      <td>3.0</td>\n",
       "      <td>15.0</td>\n",
       "      <td>1.0</td>\n",
       "      <td>22.0</td>\n",
       "      <td>55.0</td>\n",
       "    </tr>\n",
       "    <tr>\n",
       "      <th>OC Discharge</th>\n",
       "      <td>79.0</td>\n",
       "      <td>2.0</td>\n",
       "      <td>17.0</td>\n",
       "      <td>122.0</td>\n",
       "      <td>0.0</td>\n",
       "      <td>254.0</td>\n",
       "      <td>474.0</td>\n",
       "    </tr>\n",
       "    <tr>\n",
       "      <th>Operational Violation</th>\n",
       "      <td>55.0</td>\n",
       "      <td>0.0</td>\n",
       "      <td>9.0</td>\n",
       "      <td>38.0</td>\n",
       "      <td>2.0</td>\n",
       "      <td>85.0</td>\n",
       "      <td>189.0</td>\n",
       "    </tr>\n",
       "    <tr>\n",
       "      <th>Search or Seizure</th>\n",
       "      <td>223.0</td>\n",
       "      <td>2.0</td>\n",
       "      <td>40.0</td>\n",
       "      <td>272.0</td>\n",
       "      <td>5.0</td>\n",
       "      <td>442.0</td>\n",
       "      <td>984.0</td>\n",
       "    </tr>\n",
       "    <tr>\n",
       "      <th>Taser Discharge</th>\n",
       "      <td>37.0</td>\n",
       "      <td>1.0</td>\n",
       "      <td>2.0</td>\n",
       "      <td>30.0</td>\n",
       "      <td>3.0</td>\n",
       "      <td>58.0</td>\n",
       "      <td>131.0</td>\n",
       "    </tr>\n",
       "    <tr>\n",
       "      <th>Taser Notification</th>\n",
       "      <td>946.0</td>\n",
       "      <td>26.0</td>\n",
       "      <td>161.0</td>\n",
       "      <td>1470.0</td>\n",
       "      <td>1.0</td>\n",
       "      <td>2788.0</td>\n",
       "      <td>5392.0</td>\n",
       "    </tr>\n",
       "    <tr>\n",
       "      <th>Unlawful Denial of Counsel</th>\n",
       "      <td>3.0</td>\n",
       "      <td>1.0</td>\n",
       "      <td>1.0</td>\n",
       "      <td>1.0</td>\n",
       "      <td>0.0</td>\n",
       "      <td>5.0</td>\n",
       "      <td>11.0</td>\n",
       "    </tr>\n",
       "    <tr>\n",
       "      <th>Unnecessary Display of Weapon</th>\n",
       "      <td>225.0</td>\n",
       "      <td>4.0</td>\n",
       "      <td>27.0</td>\n",
       "      <td>227.0</td>\n",
       "      <td>9.0</td>\n",
       "      <td>477.0</td>\n",
       "      <td>969.0</td>\n",
       "    </tr>\n",
       "    <tr>\n",
       "      <th>Verbal Abuse</th>\n",
       "      <td>197.0</td>\n",
       "      <td>6.0</td>\n",
       "      <td>26.0</td>\n",
       "      <td>235.0</td>\n",
       "      <td>10.0</td>\n",
       "      <td>701.0</td>\n",
       "      <td>1175.0</td>\n",
       "    </tr>\n",
       "  </tbody>\n",
       "</table>\n",
       "</div>"
      ],
      "text/plain": [
       "                               num_black_officers  num_native_officers  \\\n",
       "CURRENT_CATEGORY                                                         \n",
       "Bias                                          2.0                  0.0   \n",
       "Civil Suits                                 395.0                 10.0   \n",
       "Coercion                                     61.0                  0.0   \n",
       "Death or Injury In Custody                  299.0                  3.0   \n",
       "Domestic Violence                           270.0                  4.0   \n",
       "Excessive Force                            2090.0                 31.0   \n",
       "Firearm Discharge - Hits                    164.0                  1.0   \n",
       "Firearm Discharge - No Hits                 140.0                  2.0   \n",
       "Firearm Discharge at Animal                 248.0                  3.0   \n",
       "Legal Violation                               7.0                  0.0   \n",
       "Miscellaneous                               850.0                 13.0   \n",
       "Motor Vehicle Related Death                  14.0                  0.0   \n",
       "OC Discharge                                 79.0                  2.0   \n",
       "Operational Violation                        55.0                  0.0   \n",
       "Search or Seizure                           223.0                  2.0   \n",
       "Taser Discharge                              37.0                  1.0   \n",
       "Taser Notification                          946.0                 26.0   \n",
       "Unlawful Denial of Counsel                    3.0                  1.0   \n",
       "Unnecessary Display of Weapon               225.0                  4.0   \n",
       "Verbal Abuse                                197.0                  6.0   \n",
       "\n",
       "                               num_asian_officers  num_hispanic_officers  \\\n",
       "CURRENT_CATEGORY                                                           \n",
       "Bias                                          0.0                    9.0   \n",
       "Civil Suits                                  58.0                  487.0   \n",
       "Coercion                                      2.0                   32.0   \n",
       "Death or Injury In Custody                   20.0                  135.0   \n",
       "Domestic Violence                            11.0                  144.0   \n",
       "Excessive Force                             249.0                 2083.0   \n",
       "Firearm Discharge - Hits                     20.0                  229.0   \n",
       "Firearm Discharge - No Hits                  16.0                  113.0   \n",
       "Firearm Discharge at Animal                  10.0                  214.0   \n",
       "Legal Violation                               1.0                    3.0   \n",
       "Miscellaneous                                84.0                  642.0   \n",
       "Motor Vehicle Related Death                   3.0                   15.0   \n",
       "OC Discharge                                 17.0                  122.0   \n",
       "Operational Violation                         9.0                   38.0   \n",
       "Search or Seizure                            40.0                  272.0   \n",
       "Taser Discharge                               2.0                   30.0   \n",
       "Taser Notification                          161.0                 1470.0   \n",
       "Unlawful Denial of Counsel                    1.0                    1.0   \n",
       "Unnecessary Display of Weapon                27.0                  227.0   \n",
       "Verbal Abuse                                 26.0                  235.0   \n",
       "\n",
       "                               num_unknown_officers  num_white_officers  \\\n",
       "CURRENT_CATEGORY                                                          \n",
       "Bias                                            0.0                 8.0   \n",
       "Civil Suits                                    16.0              1157.0   \n",
       "Coercion                                        1.0               106.0   \n",
       "Death or Injury In Custody                      1.0               279.0   \n",
       "Domestic Violence                               3.0               265.0   \n",
       "Excessive Force                                48.0              4781.0   \n",
       "Firearm Discharge - Hits                        0.0               422.0   \n",
       "Firearm Discharge - No Hits                     0.0               243.0   \n",
       "Firearm Discharge at Animal                     0.0               410.0   \n",
       "Legal Violation                                 0.0                13.0   \n",
       "Miscellaneous                                  28.0              1447.0   \n",
       "Motor Vehicle Related Death                     1.0                22.0   \n",
       "OC Discharge                                    0.0               254.0   \n",
       "Operational Violation                           2.0                85.0   \n",
       "Search or Seizure                               5.0               442.0   \n",
       "Taser Discharge                                 3.0                58.0   \n",
       "Taser Notification                              1.0              2788.0   \n",
       "Unlawful Denial of Counsel                      0.0                 5.0   \n",
       "Unnecessary Display of Weapon                   9.0               477.0   \n",
       "Verbal Abuse                                   10.0               701.0   \n",
       "\n",
       "                               num_police_officers  \n",
       "CURRENT_CATEGORY                                    \n",
       "Bias                                          19.0  \n",
       "Civil Suits                                 2123.0  \n",
       "Coercion                                     202.0  \n",
       "Death or Injury In Custody                   737.0  \n",
       "Domestic Violence                            697.0  \n",
       "Excessive Force                             9282.0  \n",
       "Firearm Discharge - Hits                     836.0  \n",
       "Firearm Discharge - No Hits                  514.0  \n",
       "Firearm Discharge at Animal                  885.0  \n",
       "Legal Violation                               24.0  \n",
       "Miscellaneous                               3064.0  \n",
       "Motor Vehicle Related Death                   55.0  \n",
       "OC Discharge                                 474.0  \n",
       "Operational Violation                        189.0  \n",
       "Search or Seizure                            984.0  \n",
       "Taser Discharge                              131.0  \n",
       "Taser Notification                          5392.0  \n",
       "Unlawful Denial of Counsel                    11.0  \n",
       "Unnecessary Display of Weapon                969.0  \n",
       "Verbal Abuse                                1175.0  "
      ]
     },
     "execution_count": 25,
     "metadata": {},
     "output_type": "execute_result"
    }
   ],
   "source": [
    "'''\n",
    "The code below generates a table that shows the distribution of \n",
    "races of involved police officers in different allegation types. \n",
    "'''\n",
    "\n",
    "'''\n",
    "NOTE(PLEASE IGNORE): This part of the analysis uses the orginal dataframe because the \n",
    "                     filtered dataframe has some rows removed when the 'RACE_OF_INVOLVED_OFFICERS' is not null.\n",
    "'''\n",
    "target_columns = complaints.columns[20:27]\n",
    "grouped_one_officer = one_officer.groupby(\"CURRENT_CATEGORY\")[target_columns].sum()\n",
    "#total_officers_per_category = grouped_one_officer.num_police_officers.values\n",
    "grouped_one_officer"
   ]
  },
  {
   "cell_type": "code",
   "execution_count": 26,
   "id": "91696dce-9eec-4233-90bb-6e361d4c686f",
   "metadata": {},
   "outputs": [
    {
     "data": {
      "text/html": [
       "<div>\n",
       "<style scoped>\n",
       "    .dataframe tbody tr th:only-of-type {\n",
       "        vertical-align: middle;\n",
       "    }\n",
       "\n",
       "    .dataframe tbody tr th {\n",
       "        vertical-align: top;\n",
       "    }\n",
       "\n",
       "    .dataframe thead th {\n",
       "        text-align: right;\n",
       "    }\n",
       "</style>\n",
       "<table border=\"1\" class=\"dataframe\">\n",
       "  <thead>\n",
       "    <tr style=\"text-align: right;\">\n",
       "      <th></th>\n",
       "      <th>num_black_officers</th>\n",
       "      <th>num_native_officers</th>\n",
       "      <th>num_asian_officers</th>\n",
       "      <th>num_hispanic_officers</th>\n",
       "      <th>num_unknown_officers</th>\n",
       "      <th>num_white_officers</th>\n",
       "      <th>total_percent</th>\n",
       "    </tr>\n",
       "    <tr>\n",
       "      <th>CURRENT_CATEGORY</th>\n",
       "      <th></th>\n",
       "      <th></th>\n",
       "      <th></th>\n",
       "      <th></th>\n",
       "      <th></th>\n",
       "      <th></th>\n",
       "      <th></th>\n",
       "    </tr>\n",
       "  </thead>\n",
       "  <tbody>\n",
       "    <tr>\n",
       "      <th>Bias</th>\n",
       "      <td>10.526316</td>\n",
       "      <td>0.000000</td>\n",
       "      <td>0.000000</td>\n",
       "      <td>47.368421</td>\n",
       "      <td>0.000000</td>\n",
       "      <td>42.105263</td>\n",
       "      <td>100.0</td>\n",
       "    </tr>\n",
       "    <tr>\n",
       "      <th>Civil Suits</th>\n",
       "      <td>18.605747</td>\n",
       "      <td>0.471032</td>\n",
       "      <td>2.731983</td>\n",
       "      <td>22.939237</td>\n",
       "      <td>0.753650</td>\n",
       "      <td>54.498351</td>\n",
       "      <td>100.0</td>\n",
       "    </tr>\n",
       "    <tr>\n",
       "      <th>Coercion</th>\n",
       "      <td>30.198020</td>\n",
       "      <td>0.000000</td>\n",
       "      <td>0.990099</td>\n",
       "      <td>15.841584</td>\n",
       "      <td>0.495050</td>\n",
       "      <td>52.475248</td>\n",
       "      <td>100.0</td>\n",
       "    </tr>\n",
       "    <tr>\n",
       "      <th>Death or Injury In Custody</th>\n",
       "      <td>40.569878</td>\n",
       "      <td>0.407056</td>\n",
       "      <td>2.713704</td>\n",
       "      <td>18.317503</td>\n",
       "      <td>0.135685</td>\n",
       "      <td>37.856174</td>\n",
       "      <td>100.0</td>\n",
       "    </tr>\n",
       "    <tr>\n",
       "      <th>Domestic Violence</th>\n",
       "      <td>38.737446</td>\n",
       "      <td>0.573888</td>\n",
       "      <td>1.578192</td>\n",
       "      <td>20.659971</td>\n",
       "      <td>0.430416</td>\n",
       "      <td>38.020086</td>\n",
       "      <td>100.0</td>\n",
       "    </tr>\n",
       "    <tr>\n",
       "      <th>Excessive Force</th>\n",
       "      <td>22.516699</td>\n",
       "      <td>0.333980</td>\n",
       "      <td>2.682612</td>\n",
       "      <td>22.441284</td>\n",
       "      <td>0.517130</td>\n",
       "      <td>51.508296</td>\n",
       "      <td>100.0</td>\n",
       "    </tr>\n",
       "    <tr>\n",
       "      <th>Firearm Discharge - Hits</th>\n",
       "      <td>19.617225</td>\n",
       "      <td>0.119617</td>\n",
       "      <td>2.392344</td>\n",
       "      <td>27.392344</td>\n",
       "      <td>0.000000</td>\n",
       "      <td>50.478469</td>\n",
       "      <td>100.0</td>\n",
       "    </tr>\n",
       "    <tr>\n",
       "      <th>Firearm Discharge - No Hits</th>\n",
       "      <td>27.237354</td>\n",
       "      <td>0.389105</td>\n",
       "      <td>3.112840</td>\n",
       "      <td>21.984436</td>\n",
       "      <td>0.000000</td>\n",
       "      <td>47.276265</td>\n",
       "      <td>100.0</td>\n",
       "    </tr>\n",
       "    <tr>\n",
       "      <th>Firearm Discharge at Animal</th>\n",
       "      <td>28.022599</td>\n",
       "      <td>0.338983</td>\n",
       "      <td>1.129944</td>\n",
       "      <td>24.180791</td>\n",
       "      <td>0.000000</td>\n",
       "      <td>46.327684</td>\n",
       "      <td>100.0</td>\n",
       "    </tr>\n",
       "    <tr>\n",
       "      <th>Legal Violation</th>\n",
       "      <td>29.166667</td>\n",
       "      <td>0.000000</td>\n",
       "      <td>4.166667</td>\n",
       "      <td>12.500000</td>\n",
       "      <td>0.000000</td>\n",
       "      <td>54.166667</td>\n",
       "      <td>100.0</td>\n",
       "    </tr>\n",
       "    <tr>\n",
       "      <th>Miscellaneous</th>\n",
       "      <td>27.741514</td>\n",
       "      <td>0.424282</td>\n",
       "      <td>2.741514</td>\n",
       "      <td>20.953003</td>\n",
       "      <td>0.913838</td>\n",
       "      <td>47.225849</td>\n",
       "      <td>100.0</td>\n",
       "    </tr>\n",
       "    <tr>\n",
       "      <th>Motor Vehicle Related Death</th>\n",
       "      <td>25.454545</td>\n",
       "      <td>0.000000</td>\n",
       "      <td>5.454545</td>\n",
       "      <td>27.272727</td>\n",
       "      <td>1.818182</td>\n",
       "      <td>40.000000</td>\n",
       "      <td>100.0</td>\n",
       "    </tr>\n",
       "    <tr>\n",
       "      <th>OC Discharge</th>\n",
       "      <td>16.666667</td>\n",
       "      <td>0.421941</td>\n",
       "      <td>3.586498</td>\n",
       "      <td>25.738397</td>\n",
       "      <td>0.000000</td>\n",
       "      <td>53.586498</td>\n",
       "      <td>100.0</td>\n",
       "    </tr>\n",
       "    <tr>\n",
       "      <th>Operational Violation</th>\n",
       "      <td>29.100529</td>\n",
       "      <td>0.000000</td>\n",
       "      <td>4.761905</td>\n",
       "      <td>20.105820</td>\n",
       "      <td>1.058201</td>\n",
       "      <td>44.973545</td>\n",
       "      <td>100.0</td>\n",
       "    </tr>\n",
       "    <tr>\n",
       "      <th>Search or Seizure</th>\n",
       "      <td>22.662602</td>\n",
       "      <td>0.203252</td>\n",
       "      <td>4.065041</td>\n",
       "      <td>27.642276</td>\n",
       "      <td>0.508130</td>\n",
       "      <td>44.918699</td>\n",
       "      <td>100.0</td>\n",
       "    </tr>\n",
       "    <tr>\n",
       "      <th>Taser Discharge</th>\n",
       "      <td>28.244275</td>\n",
       "      <td>0.763359</td>\n",
       "      <td>1.526718</td>\n",
       "      <td>22.900763</td>\n",
       "      <td>2.290076</td>\n",
       "      <td>44.274809</td>\n",
       "      <td>100.0</td>\n",
       "    </tr>\n",
       "    <tr>\n",
       "      <th>Taser Notification</th>\n",
       "      <td>17.544510</td>\n",
       "      <td>0.482196</td>\n",
       "      <td>2.985905</td>\n",
       "      <td>27.262611</td>\n",
       "      <td>0.018546</td>\n",
       "      <td>51.706231</td>\n",
       "      <td>100.0</td>\n",
       "    </tr>\n",
       "    <tr>\n",
       "      <th>Unlawful Denial of Counsel</th>\n",
       "      <td>27.272727</td>\n",
       "      <td>9.090909</td>\n",
       "      <td>9.090909</td>\n",
       "      <td>9.090909</td>\n",
       "      <td>0.000000</td>\n",
       "      <td>45.454545</td>\n",
       "      <td>100.0</td>\n",
       "    </tr>\n",
       "    <tr>\n",
       "      <th>Unnecessary Display of Weapon</th>\n",
       "      <td>23.219814</td>\n",
       "      <td>0.412797</td>\n",
       "      <td>2.786378</td>\n",
       "      <td>23.426213</td>\n",
       "      <td>0.928793</td>\n",
       "      <td>49.226006</td>\n",
       "      <td>100.0</td>\n",
       "    </tr>\n",
       "    <tr>\n",
       "      <th>Verbal Abuse</th>\n",
       "      <td>16.765957</td>\n",
       "      <td>0.510638</td>\n",
       "      <td>2.212766</td>\n",
       "      <td>20.000000</td>\n",
       "      <td>0.851064</td>\n",
       "      <td>59.659574</td>\n",
       "      <td>100.0</td>\n",
       "    </tr>\n",
       "  </tbody>\n",
       "</table>\n",
       "</div>"
      ],
      "text/plain": [
       "                               num_black_officers  num_native_officers  \\\n",
       "CURRENT_CATEGORY                                                         \n",
       "Bias                                    10.526316             0.000000   \n",
       "Civil Suits                             18.605747             0.471032   \n",
       "Coercion                                30.198020             0.000000   \n",
       "Death or Injury In Custody              40.569878             0.407056   \n",
       "Domestic Violence                       38.737446             0.573888   \n",
       "Excessive Force                         22.516699             0.333980   \n",
       "Firearm Discharge - Hits                19.617225             0.119617   \n",
       "Firearm Discharge - No Hits             27.237354             0.389105   \n",
       "Firearm Discharge at Animal             28.022599             0.338983   \n",
       "Legal Violation                         29.166667             0.000000   \n",
       "Miscellaneous                           27.741514             0.424282   \n",
       "Motor Vehicle Related Death             25.454545             0.000000   \n",
       "OC Discharge                            16.666667             0.421941   \n",
       "Operational Violation                   29.100529             0.000000   \n",
       "Search or Seizure                       22.662602             0.203252   \n",
       "Taser Discharge                         28.244275             0.763359   \n",
       "Taser Notification                      17.544510             0.482196   \n",
       "Unlawful Denial of Counsel              27.272727             9.090909   \n",
       "Unnecessary Display of Weapon           23.219814             0.412797   \n",
       "Verbal Abuse                            16.765957             0.510638   \n",
       "\n",
       "                               num_asian_officers  num_hispanic_officers  \\\n",
       "CURRENT_CATEGORY                                                           \n",
       "Bias                                     0.000000              47.368421   \n",
       "Civil Suits                              2.731983              22.939237   \n",
       "Coercion                                 0.990099              15.841584   \n",
       "Death or Injury In Custody               2.713704              18.317503   \n",
       "Domestic Violence                        1.578192              20.659971   \n",
       "Excessive Force                          2.682612              22.441284   \n",
       "Firearm Discharge - Hits                 2.392344              27.392344   \n",
       "Firearm Discharge - No Hits              3.112840              21.984436   \n",
       "Firearm Discharge at Animal              1.129944              24.180791   \n",
       "Legal Violation                          4.166667              12.500000   \n",
       "Miscellaneous                            2.741514              20.953003   \n",
       "Motor Vehicle Related Death              5.454545              27.272727   \n",
       "OC Discharge                             3.586498              25.738397   \n",
       "Operational Violation                    4.761905              20.105820   \n",
       "Search or Seizure                        4.065041              27.642276   \n",
       "Taser Discharge                          1.526718              22.900763   \n",
       "Taser Notification                       2.985905              27.262611   \n",
       "Unlawful Denial of Counsel               9.090909               9.090909   \n",
       "Unnecessary Display of Weapon            2.786378              23.426213   \n",
       "Verbal Abuse                             2.212766              20.000000   \n",
       "\n",
       "                               num_unknown_officers  num_white_officers  \\\n",
       "CURRENT_CATEGORY                                                          \n",
       "Bias                                       0.000000           42.105263   \n",
       "Civil Suits                                0.753650           54.498351   \n",
       "Coercion                                   0.495050           52.475248   \n",
       "Death or Injury In Custody                 0.135685           37.856174   \n",
       "Domestic Violence                          0.430416           38.020086   \n",
       "Excessive Force                            0.517130           51.508296   \n",
       "Firearm Discharge - Hits                   0.000000           50.478469   \n",
       "Firearm Discharge - No Hits                0.000000           47.276265   \n",
       "Firearm Discharge at Animal                0.000000           46.327684   \n",
       "Legal Violation                            0.000000           54.166667   \n",
       "Miscellaneous                              0.913838           47.225849   \n",
       "Motor Vehicle Related Death                1.818182           40.000000   \n",
       "OC Discharge                               0.000000           53.586498   \n",
       "Operational Violation                      1.058201           44.973545   \n",
       "Search or Seizure                          0.508130           44.918699   \n",
       "Taser Discharge                            2.290076           44.274809   \n",
       "Taser Notification                         0.018546           51.706231   \n",
       "Unlawful Denial of Counsel                 0.000000           45.454545   \n",
       "Unnecessary Display of Weapon              0.928793           49.226006   \n",
       "Verbal Abuse                               0.851064           59.659574   \n",
       "\n",
       "                               total_percent  \n",
       "CURRENT_CATEGORY                              \n",
       "Bias                                   100.0  \n",
       "Civil Suits                            100.0  \n",
       "Coercion                               100.0  \n",
       "Death or Injury In Custody             100.0  \n",
       "Domestic Violence                      100.0  \n",
       "Excessive Force                        100.0  \n",
       "Firearm Discharge - Hits               100.0  \n",
       "Firearm Discharge - No Hits            100.0  \n",
       "Firearm Discharge at Animal            100.0  \n",
       "Legal Violation                        100.0  \n",
       "Miscellaneous                          100.0  \n",
       "Motor Vehicle Related Death            100.0  \n",
       "OC Discharge                           100.0  \n",
       "Operational Violation                  100.0  \n",
       "Search or Seizure                      100.0  \n",
       "Taser Discharge                        100.0  \n",
       "Taser Notification                     100.0  \n",
       "Unlawful Denial of Counsel             100.0  \n",
       "Unnecessary Display of Weapon          100.0  \n",
       "Verbal Abuse                           100.0  "
      ]
     },
     "execution_count": 26,
     "metadata": {},
     "output_type": "execute_result"
    }
   ],
   "source": [
    "'''\n",
    "The code below generates a table that shows the relative frequency of the races of involved police officers in different complaint types.\n",
    "\n",
    "For example, 47.36% of officers involved in Bias are Hispanic.\n",
    "'''\n",
    "percent_one_officer = grouped_one_officer[grouped_one_officer.columns[:-1]].divide(grouped_one_officer[\"num_police_officers\"], axis=\"index\")*100\n",
    "percent_one_officer['total_percent'] = percent_one_officer.sum(axis=1)\n",
    "percent_one_officer"
   ]
  },
  {
   "cell_type": "code",
   "execution_count": 27,
   "id": "a7283202-3f46-44f4-b9ec-76a4cc422c13",
   "metadata": {},
   "outputs": [
    {
     "data": {
      "text/plain": [
       "No Finding       8202\n",
       "NO AFFIDAVIT     5925\n",
       "NOT SUSTAINED    4767\n",
       "UNFOUNDED        2349\n",
       "SUSTAINED        1002\n",
       "EXONERATED        123\n",
       "Name: FINDING_CODE, dtype: int64"
      ]
     },
     "execution_count": 27,
     "metadata": {},
     "output_type": "execute_result"
    }
   ],
   "source": [
    "complaints.FINDING_CODE.value_counts()"
   ]
  },
  {
   "cell_type": "code",
   "execution_count": 28,
   "id": "22ad151b-51d5-4322-9200-467c59636430",
   "metadata": {},
   "outputs": [
    {
     "data": {
      "text/plain": [
       "Closed                   22104\n",
       "Pending Investigation     1188\n",
       "Pending CPD Review         225\n",
       "Undefined                   23\n",
       "Pending Police Board         9\n",
       "Suspended                    5\n",
       "Pending DOL Review           1\n",
       "Pending Discipline           1\n",
       "Name: CURRENT_STATUS, dtype: int64"
      ]
     },
     "execution_count": 28,
     "metadata": {},
     "output_type": "execute_result"
    }
   ],
   "source": [
    "complaints.CURRENT_STATUS.value_counts()"
   ]
  }
 ],
 "metadata": {
  "kernelspec": {
   "display_name": "Python 3 (ipykernel)",
   "language": "python",
   "name": "python3"
  },
  "language_info": {
   "codemirror_mode": {
    "name": "ipython",
    "version": 3
   },
   "file_extension": ".py",
   "mimetype": "text/x-python",
   "name": "python",
   "nbconvert_exporter": "python",
   "pygments_lexer": "ipython3",
   "version": "3.8.12"
  }
 },
 "nbformat": 4,
 "nbformat_minor": 5
}
